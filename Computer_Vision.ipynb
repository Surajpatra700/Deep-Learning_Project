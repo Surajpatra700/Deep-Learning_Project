{
  "nbformat": 4,
  "nbformat_minor": 0,
  "metadata": {
    "colab": {
      "provenance": [],
      "authorship_tag": "ABX9TyNJaRuboA0Z6GIRzSTECTgk",
      "include_colab_link": true
    },
    "kernelspec": {
      "name": "python3",
      "display_name": "Python 3"
    },
    "language_info": {
      "name": "python"
    }
  },
  "cells": [
    {
      "cell_type": "markdown",
      "metadata": {
        "id": "view-in-github",
        "colab_type": "text"
      },
      "source": [
        "<a href=\"https://colab.research.google.com/github/Surajpatra700/Deep-Learning_Project/blob/main/Computer_Vision.ipynb\" target=\"_parent\"><img src=\"https://colab.research.google.com/assets/colab-badge.svg\" alt=\"Open In Colab\"/></a>"
      ]
    },
    {
      "cell_type": "code",
      "execution_count": null,
      "metadata": {
        "id": "77D2UPTDObbC"
      },
      "outputs": [],
      "source": [
        "# COMPUTER VISION ---> Its a field of Deep Learning in which the machine interprets Visual images/ videos similar to that of Human Eyes"
      ]
    },
    {
      "cell_type": "code",
      "source": [
        "# FILTERS --->(Feature Detectors)\n",
        "\n",
        "# In a Convolutional Neural Network (CNN), filters are small, learnable, and typically 2D arrays used to extract features from input data,\n",
        "# such as images. These filters slide (convolve) over the input, element-wise multiplying and summing values.\n",
        "# They help detect patterns like edges, textures, or more complex features in the data, enabling the network to learn hierarchical representations.\n",
        "# The output of these convolutions is often referred to as feature maps, which serve as input for subsequent layers in the CNN, ultimately aiding in tasks like image recognition."
      ],
      "metadata": {
        "id": "xRofGzJNRFbJ"
      },
      "execution_count": null,
      "outputs": []
    },
    {
      "cell_type": "code",
      "source": [
        "# POOLING -->\n",
        "\n",
        "# Pooling in a Convolutional Neural Network (CNN) is a downsampling operation that reduces the spatial dimensions of feature maps\n",
        "# while retaining their important information. It involves sliding a window (usually 2x2 or 3x3) over the input, and for each window,\n",
        "# taking the maximum (MaxPooling) or average (AveragePooling) value. This reduces the computational load and helps make the network more robust to small spatial translations,\n",
        "# enhancing its ability to recognize patterns in different parts of the image. Pooling helps reduce the number of parameters and control overfitting in the network."
      ],
      "metadata": {
        "id": "rFkLbVxqUqUQ"
      },
      "execution_count": null,
      "outputs": []
    },
    {
      "cell_type": "code",
      "source": [
        "import tensorflow as tf\n",
        "from tensorflow.keras import datasets, layers, models\n",
        "import matplotlib.pyplot as plt\n",
        "import numpy as np"
      ],
      "metadata": {
        "id": "xZyIp0RrX6Q1"
      },
      "execution_count": 29,
      "outputs": []
    },
    {
      "cell_type": "code",
      "source": [
        "(X_train,y_train), (X_test,y_test) = datasets.cifar10.load_data()\n",
        "X_train.shape"
      ],
      "metadata": {
        "colab": {
          "base_uri": "https://localhost:8080/"
        },
        "id": "p7sxO1lweRi2",
        "outputId": "4d629e53-2880-4f60-b9d4-5d27642b66fb"
      },
      "execution_count": 7,
      "outputs": [
        {
          "output_type": "execute_result",
          "data": {
            "text/plain": [
              "(50000, 32, 32, 3)"
            ]
          },
          "metadata": {},
          "execution_count": 7
        }
      ]
    },
    {
      "cell_type": "code",
      "source": [
        "X_test.shape"
      ],
      "metadata": {
        "colab": {
          "base_uri": "https://localhost:8080/"
        },
        "id": "n6caFm3He0s5",
        "outputId": "46b33cd3-b827-4e21-bc56-d046c44afa63"
      },
      "execution_count": 21,
      "outputs": [
        {
          "output_type": "execute_result",
          "data": {
            "text/plain": [
              "(10000, 32, 32, 3)"
            ]
          },
          "metadata": {},
          "execution_count": 21
        }
      ]
    },
    {
      "cell_type": "code",
      "source": [
        "classes = [\"airplane\",\"automobile\",\"bird\",\"cat\",\"deer\",\"dog\",\"frog\",\"horse\",\"ship\",\"truck\"]"
      ],
      "metadata": {
        "id": "dhYAR82XhX_a"
      },
      "execution_count": 27,
      "outputs": []
    },
    {
      "cell_type": "code",
      "source": [
        "y_train = y_train.reshape(-1,) # Reducing the two dimension array to one-Dimemsion array\n",
        "y_train[:5]\n",
        "# y_test[:5]"
      ],
      "metadata": {
        "colab": {
          "base_uri": "https://localhost:8080/"
        },
        "id": "V7OOkNJchscQ",
        "outputId": "9c6b0681-46e1-4305-f6ce-dba5d6ffed09"
      },
      "execution_count": 45,
      "outputs": [
        {
          "output_type": "execute_result",
          "data": {
            "text/plain": [
              "array([6, 9, 9, 4, 1], dtype=uint8)"
            ]
          },
          "metadata": {},
          "execution_count": 45
        }
      ]
    },
    {
      "cell_type": "code",
      "source": [
        "def plot_image(X,y,index):\n",
        "  plt.figure(figsize=(10,2))\n",
        "  #plt.xlabel(classes[y_test[index][0]])\n",
        "  plt.xlabel(classes[y[index]])\n",
        "  return plt.imshow(X[index])"
      ],
      "metadata": {
        "id": "RK5SX7u3e_CV"
      },
      "execution_count": 42,
      "outputs": []
    },
    {
      "cell_type": "code",
      "source": [
        "plot_image(X_train, y_train, 6)"
      ],
      "metadata": {
        "colab": {
          "base_uri": "https://localhost:8080/",
          "height": 254
        },
        "id": "EuL_xd-qhF4A",
        "outputId": "43f814f7-6d28-4704-f730-0e8fe38814a4"
      },
      "execution_count": 47,
      "outputs": [
        {
          "output_type": "execute_result",
          "data": {
            "text/plain": [
              "<matplotlib.image.AxesImage at 0x7c7af0c72a70>"
            ]
          },
          "metadata": {},
          "execution_count": 47
        },
        {
          "output_type": "display_data",
          "data": {
            "text/plain": [
              "<Figure size 1000x200 with 1 Axes>"
            ],
            "image/png": "[encoded data removed]"
          },
          "metadata": {}
        }
      ]
    },
    {
      "cell_type": "code",
      "source": [
        "X_train = X_train/255\n",
        "y_train = y_train/255"
      ],
      "metadata": {
        "id": "QjCabXjFkgB9"
      },
      "execution_count": 48,
      "outputs": []
    },
    {
      "cell_type": "code",
      "source": [
        "ann = models.Sequential([\n",
        "    layers.Flatten(input_shape=(32,32,3)),\n",
        "    layers.Dense(3000, activation=\"relu\"),\n",
        "    layers.Dense(1000, activation=\"relu\"),\n",
        "    layers.Dense(10, activation=\"sigmoid\"),\n",
        "])\n",
        "\n",
        "ann.compile(\n",
        "    optimizer=\"SGD\",\n",
        "    loss=\"sparse_categorical_crossentropy\",\n",
        "    metrics=[\"accuracy\"]\n",
        ")\n",
        "\n",
        "ann.fit(X_train, y_train, epochs=5)"
      ],
      "metadata": {
        "colab": {
          "base_uri": "https://localhost:8080/"
        },
        "id": "cHug7vdLjA8Y",
        "outputId": "bb9c8632-2d26-494e-b234-0759f837b609"
      },
      "execution_count": 51,
      "outputs": [
        {
          "output_type": "stream",
          "name": "stdout",
          "text": [
            "Epoch 1/5\n",
            "1563/1563 [==============================] - 216s 138ms/step - loss: 0.0030 - accuracy: 0.1000\n",
            "Epoch 2/5\n",
            "1563/1563 [==============================] - 190s 121ms/step - loss: 3.1041e-04 - accuracy: 0.1000\n",
            "Epoch 3/5\n",
            "1563/1563 [==============================] - 173s 110ms/step - loss: 1.9810e-04 - accuracy: 0.1000\n",
            "Epoch 4/5\n",
            "1563/1563 [==============================] - 159s 102ms/step - loss: 1.4815e-04 - accuracy: 0.1000\n",
            "Epoch 5/5\n",
            "1563/1563 [==============================] - 154s 99ms/step - loss: 1.1931e-04 - accuracy: 0.1000\n"
          ]
        },
        {
          "output_type": "execute_result",
          "data": {
            "text/plain": [
              "<keras.src.callbacks.History at 0x7c7a85eb7220>"
            ]
          },
          "metadata": {},
          "execution_count": 51
        }
      ]
    },
    {
      "cell_type": "code",
      "source": [
        "ann.evaluate(X_test, y_test)"
      ],
      "metadata": {
        "id": "kgX_BfUil3Hs"
      },
      "execution_count": null,
      "outputs": []
    },
    {
      "cell_type": "code",
      "source": [
        "from sklearn.metrics import confusion_metrics, classification_report\n",
        "import numpy as np\n",
        "y_pred = ann.predict(X_test)\n",
        "y_pred_classes = [np.argmax(element) for element in y_pred]\n"
      ],
      "metadata": {
        "id": "5fS8B5_sudkg"
      },
      "execution_count": null,
      "outputs": []
    }
  ]
}