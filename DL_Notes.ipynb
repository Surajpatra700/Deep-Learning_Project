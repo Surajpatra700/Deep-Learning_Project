{
  "nbformat": 4,
  "nbformat_minor": 0,
  "metadata": {
    "colab": {
      "provenance": [],
      "authorship_tag": "ABX9TyMWTthHNFnHkGgfPe8FVyV1",
      "include_colab_link": true
    },
    "kernelspec": {
      "name": "python3",
      "display_name": "Python 3"
    },
    "language_info": {
      "name": "python"
    }
  },
  "cells": [
    {
      "cell_type": "markdown",
      "metadata": {
        "id": "view-in-github",
        "colab_type": "text"
      },
      "source": [
        "<a href=\"https://colab.research.google.com/github/Surajpatra700/Deep-Learning_Project/blob/main/DL_Notes.ipynb\" target=\"_parent\"><img src=\"https://colab.research.google.com/assets/colab-badge.svg\" alt=\"Open In Colab\"/></a>"
      ]
    },
    {
      "cell_type": "code",
      "execution_count": null,
      "metadata": {
        "id": "S-7UKArkWRZC"
      },
      "outputs": [],
      "source": []
    },
    {
      "cell_type": "code",
      "source": [
        "# **************************** Convolution Nueral Network ****************\n",
        "\n",
        "# If on a m(rows)*n(columns) matrix image a filter of f*f is applied the generated feature feature map would be of dimension (m-f+1)*(n-f+1)\n",
        "\n",
        "# VALID CONVOLUTION ---> No Padding\n",
        "# SAME CONVOLUTION ---> pad such that o/p is same as i/p\n",
        "# layers.Conv2D(filters=16, kernel_size=(3,3), padding='same', activation=\"relu\")"
      ],
      "metadata": {
        "id": "CzZR6bXIXkMv"
      },
      "execution_count": null,
      "outputs": []
    }
  ]
}