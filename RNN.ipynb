{
  "nbformat": 4,
  "nbformat_minor": 0,
  "metadata": {
    "colab": {
      "provenance": [],
      "authorship_tag": "ABX9TyNXdkVMq8C1UKO1WteJepT0",
      "include_colab_link": true
    },
    "kernelspec": {
      "name": "python3",
      "display_name": "Python 3"
    },
    "language_info": {
      "name": "python"
    }
  },
  "cells": [
    {
      "cell_type": "markdown",
      "metadata": {
        "id": "view-in-github",
        "colab_type": "text"
      },
      "source": [
        "<a href=\"https://colab.research.google.com/github/Surajpatra700/Deep-Learning_Project/blob/main/RNN.ipynb\" target=\"_parent\"><img src=\"https://colab.research.google.com/assets/colab-badge.svg\" alt=\"Open In Colab\"/></a>"
      ]
    },
    {
      "cell_type": "code",
      "execution_count": 1,
      "metadata": {
        "id": "ctNOFyz7gDe8"
      },
      "outputs": [],
      "source": [
        "# ********************************************** RECCURENT NUERAL NETWORK(RNN) *******************************************"
      ]
    },
    {
      "cell_type": "code",
      "source": [
        "# USE CASES OF RNN:\n",
        "# 1. Autocompletion of text\n",
        "# 2. Language Translation\n",
        "# 3. NER: Named Entity recognition i.e it can recognize name, comany, time, date... etc from the given text\n",
        "# 4. Sentiment analysis i.e it is used to give rating to something based upon the text"
      ],
      "metadata": {
        "id": "7RdeT9v6gOC2"
      },
      "execution_count": null,
      "outputs": []
    },
    {
      "cell_type": "code",
      "source": [
        "import numpy as np\n",
        "from tensorflow.keras.preprocessing.text import one_hot\n",
        "from tensorflow.keras.preprocessing.sequence import pad_sequences"
      ],
      "metadata": {
        "id": "YeE_-DT_gzZE"
      },
      "execution_count": null,
      "outputs": []
    }
  ]
}