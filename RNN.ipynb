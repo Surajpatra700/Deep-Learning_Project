{
  "nbformat": 4,
  "nbformat_minor": 0,
  "metadata": {
    "colab": {
      "provenance": [],
      "authorship_tag": "ABX9TyOrlwxdy3qHY7GmpzdY0AdJ",
      "include_colab_link": true
    },
    "kernelspec": {
      "name": "python3",
      "display_name": "Python 3"
    },
    "language_info": {
      "name": "python"
    }
  },
  "cells": [
    {
      "cell_type": "markdown",
      "metadata": {
        "id": "view-in-github",
        "colab_type": "text"
      },
      "source": [
        "<a href=\"https://colab.research.google.com/github/Surajpatra700/Deep-Learning_Project/blob/main/RNN.ipynb\" target=\"_parent\"><img src=\"https://colab.research.google.com/assets/colab-badge.svg\" alt=\"Open In Colab\"/></a>"
      ]
    },
    {
      "cell_type": "code",
      "execution_count": null,
      "metadata": {
        "id": "ctNOFyz7gDe8"
      },
      "outputs": [],
      "source": [
        "# ********************************************** RECCURENT NUERAL NETWORK(RNN) *******************************************"
      ]
    },
    {
      "cell_type": "code",
      "source": [
        "# USE CASES OF RNN:\n",
        "# 1. Autocompletion of text\n",
        "# 2. Language Translation\n",
        "# 3. NER: Named Entity recognition i.e it can recognize name, comany, time, date... etc from the given text\n",
        "# 4. Sentiment analysis i.e it is used to give rating to something based upon the text"
      ],
      "metadata": {
        "id": "7RdeT9v6gOC2"
      },
      "execution_count": null,
      "outputs": []
    },
    {
      "cell_type": "code",
      "source": [
        "import numpy as np\n",
        "from tensorflow.keras.preprocessing.text import one_hot\n",
        "from tensorflow.keras.preprocessing.sequence import pad_sequences\n",
        "from tensorflow.keras.models import Sequential\n",
        "from tensorflow.keras.layers import Dense\n",
        "from tensorflow.keras.layers import Flatten\n",
        "from tensorflow.keras.layers import Embedding"
      ],
      "metadata": {
        "id": "YeE_-DT_gzZE"
      },
      "execution_count": 1,
      "outputs": []
    },
    {
      "cell_type": "code",
      "source": [
        "reviews = [\n",
        "    \"nice food\",\n",
        "    \"amazing restaurant\",\n",
        "    \"too good\",\n",
        "    \"just loved it!\",\n",
        "    \"will go again\",\n",
        "    \"horrible food\",\n",
        "    \"never go there\",\n",
        "    \"poor service\",\n",
        "    \"poor quality\",\n",
        "    \"needs improvement\"\n",
        "]\n",
        "\n",
        "sentiment = np.array([1,1,1,1,1,0,0,0,0,0])"
      ],
      "metadata": {
        "id": "kBHl0EnDcxY9"
      },
      "execution_count": 2,
      "outputs": []
    },
    {
      "cell_type": "code",
      "source": [
        "one_hot(\"amazing restaurant\",30) # asigns maximum upto 30 features to each word present in the text"
      ],
      "metadata": {
        "colab": {
          "base_uri": "https://localhost:8080/"
        },
        "id": "pTPgVcRedbqv",
        "outputId": "df357575-5c29-4d7e-cf8c-815a4304cbe1"
      },
      "execution_count": 4,
      "outputs": [
        {
          "output_type": "execute_result",
          "data": {
            "text/plain": [
              "[28, 24]"
            ]
          },
          "metadata": {},
          "execution_count": 4
        }
      ]
    },
    {
      "cell_type": "code",
      "source": [
        "encoded_reviews = [one_hot(d,30) for d in reviews]\n",
        "print(encoded_reviews)"
      ],
      "metadata": {
        "colab": {
          "base_uri": "https://localhost:8080/"
        },
        "id": "vTgMKGMPeNwb",
        "outputId": "2fd4c3d2-0445-4090-ea7b-b579b4626252"
      },
      "execution_count": 6,
      "outputs": [
        {
          "output_type": "stream",
          "name": "stdout",
          "text": [
            "[[1, 12], [28, 24], [28, 12], [29, 25, 20], [17, 16, 21], [2, 12], [28, 16, 17], [20, 7], [20, 12], [25, 4]]\n"
          ]
        }
      ]
    },
    {
      "cell_type": "code",
      "source": [
        "max_length = 3\n",
        "padded_reviews = pad_sequences(encoded_reviews, maxlen=max_length, padding='post')\n",
        "padded_reviews"
      ],
      "metadata": {
        "colab": {
          "base_uri": "https://localhost:8080/"
        },
        "id": "Ep0DGinue4lt",
        "outputId": "a970e870-57f2-48a3-a670-4bf1b5cc50d4"
      },
      "execution_count": 7,
      "outputs": [
        {
          "output_type": "execute_result",
          "data": {
            "text/plain": [
              "array([[ 1, 12,  0],\n",
              "       [28, 24,  0],\n",
              "       [28, 12,  0],\n",
              "       [29, 25, 20],\n",
              "       [17, 16, 21],\n",
              "       [ 2, 12,  0],\n",
              "       [28, 16, 17],\n",
              "       [20,  7,  0],\n",
              "       [20, 12,  0],\n",
              "       [25,  4,  0]], dtype=int32)"
            ]
          },
          "metadata": {},
          "execution_count": 7
        }
      ]
    }
  ]
}