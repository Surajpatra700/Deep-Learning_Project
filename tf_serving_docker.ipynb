{
  "nbformat": 4,
  "nbformat_minor": 0,
  "metadata": {
    "colab": {
      "provenance": [],
      "authorship_tag": "ABX9TyP0ZiNqYQXNstqcVqjdKu5V",
      "include_colab_link": true
    },
    "kernelspec": {
      "name": "python3",
      "display_name": "Python 3"
    },
    "language_info": {
      "name": "python"
    }
  },
  "cells": [
    {
      "cell_type": "markdown",
      "metadata": {
        "id": "view-in-github",
        "colab_type": "text"
      },
      "source": [
        "<a href=\"https://colab.research.google.com/github/Surajpatra700/Deep-Learning_Project/blob/main/tf_serving_docker.ipynb\" target=\"_parent\"><img src=\"https://colab.research.google.com/assets/colab-badge.svg\" alt=\"Open In Colab\"/></a>"
      ]
    },
    {
      "cell_type": "code",
      "source": [
        "# Create a Docker Container Image by using cmd command\n",
        "\n",
        "docker pull tensorflow/serving"
      ],
      "metadata": {
        "id": "IbZMcitlnnKK"
      },
      "execution_count": null,
      "outputs": []
    },
    {
      "cell_type": "markdown",
      "source": [
        "# **To start docker container**"
      ],
      "metadata": {
        "id": "maksdlp7mTzz"
      }
    },
    {
      "cell_type": "code",
      "execution_count": null,
      "metadata": {
        "id": "kjTopjRsc-PT"
      },
      "outputs": [],
      "source": [
        "# Go to Windows Powershell and run\n",
        "\n",
        "docker run -it -v {directory path of your model folder}\\{folder name}:/{same folder name for mapping with docker img} -p 8601:8601 --entrypoint /bin/bash tensorflow/serving\n",
        "docker run -it -v C:\\Code\\deep-learning-keras-tf-tutorial\\48_tf_serving:/48_tf_serving -p 8601:8601 --entrypoint /bin/bash tensorflow/serving\n"
      ]
    },
    {
      "cell_type": "markdown",
      "source": [
        "# **To serve only latest model**"
      ],
      "metadata": {
        "id": "MzDOLbUGmSdr"
      }
    },
    {
      "cell_type": "code",
      "source": [
        "tensorflow_model_server --rest_api_port={specify port no.} --model_name={give a model name by yourself} --model_base_path=/{model folder name path}/\n",
        "tensorflow_model_server --rest_api_port=8601 --model_name=email_model --model_base_path=/48_tf_serving/saved_models/"
      ],
      "metadata": {
        "id": "PRJT5sDGmSC4"
      },
      "execution_count": null,
      "outputs": []
    },
    {
      "cell_type": "markdown",
      "source": [
        "# **To serve models using model config file**"
      ],
      "metadata": {
        "id": "eUhlN8W3mzqw"
      }
    },
    {
      "cell_type": "code",
      "source": [
        "tensorflow_model_server --rest_api_port=8601  --allow_version_labels_for_unavailable_models --model_config_file=/48_tf_serving/model.config.c"
      ],
      "metadata": {
        "id": "alkVJIx9m6d1"
      },
      "execution_count": null,
      "outputs": []
    },
    {
      "cell_type": "markdown",
      "source": [
        "# **Postman commands**"
      ],
      "metadata": {
        "id": "cqDo_LJcnG4m"
      }
    },
    {
      "cell_type": "code",
      "source": [
        "# To call by version (POST Request)\n",
        "\n",
        "http://localhost:8601/v1/models/email_model/versions/2:predict"
      ],
      "metadata": {
        "id": "WC06N_-vnJd0"
      },
      "execution_count": null,
      "outputs": []
    },
    {
      "cell_type": "code",
      "source": [
        "# To call by labels(POST Request)\n",
        "\n",
        "http://localhost:8601/v1/models/email_model/labels/beta:predict"
      ],
      "metadata": {
        "id": "tXlPu2MunQcB"
      },
      "execution_count": null,
      "outputs": []
    },
    {
      "cell_type": "code",
      "source": [
        "# Body Raw\n",
        "\n",
        "{\n",
        "    \"instances\": [\n",
        "        \"Let's meet for dinner tomorrow\",\n",
        "        \"You are awarded a SiPix Digital Camera! call 09061221061 from landline. Delivery within 28days. T Cs Box177\"\n",
        "    ]\n",
        "}"
      ],
      "metadata": {
        "id": "NcvNt-vvnbHR"
      },
      "execution_count": 1,
      "outputs": []
    }
  ]
}